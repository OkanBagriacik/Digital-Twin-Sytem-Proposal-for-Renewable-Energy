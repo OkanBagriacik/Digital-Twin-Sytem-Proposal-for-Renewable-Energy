{
  "nbformat": 4,
  "nbformat_minor": 0,
  "metadata": {
    "colab": {
      "name": "Machine Learning and Sw.ipynb",
      "provenance": [],
      "include_colab_link": true
    },
    "kernelspec": {
      "name": "python3",
      "display_name": "Python 3"
    },
    "language_info": {
      "name": "python"
    }
  },
  "cells": [
    {
      "cell_type": "markdown",
      "metadata": {
        "id": "view-in-github",
        "colab_type": "text"
      },
      "source": [
        "<a href=\"https://colab.research.google.com/github/OkanBagriacik/Energy-Project/blob/main/Machine_Learning_and_Sw.ipynb\" target=\"_parent\"><img src=\"https://colab.research.google.com/assets/colab-badge.svg\" alt=\"Open In Colab\"/></a>"
      ]
    },
    {
      "cell_type": "markdown",
      "metadata": {
        "id": "IJ832Wvm6wDu"
      },
      "source": [
        "# Güneş Enerjisi ve Panel Ayrık Veri Analizi"
      ]
    },
    {
      "cell_type": "markdown",
      "metadata": {
        "id": "fpmoD-V27Bvu"
      },
      "source": [
        "**Gerekli kütüphaneleri import edelim**"
      ]
    },
    {
      "cell_type": "code",
      "metadata": {
        "id": "2xePK8XI6aRz"
      },
      "source": [
        "import pandas as pd\n",
        "from sklearn import tree\n",
        "import matplotlib.pyplot as plt\n",
        "import numpy as np"
      ],
      "execution_count": null,
      "outputs": []
    },
    {
      "cell_type": "markdown",
      "metadata": {
        "id": "soUmCOsT62Yz"
      },
      "source": [
        "**Veri setini ortama aktaralım**"
      ]
    },
    {
      "cell_type": "code",
      "metadata": {
        "colab": {
          "base_uri": "https://localhost:8080/"
        },
        "id": "h7QTJ_CO62LF",
        "outputId": "b219a85b-7f8a-4a13-c0ed-b2ee9f8bd61c"
      },
      "source": [
        "df = pd.read_csv(\"turkeyocak.csv\")  # Veriyi ortama aktar\n",
        "print(df.head())  # İlk 5 satırı göster"
      ],
      "execution_count": null,
      "outputs": [
        {
          "output_type": "stream",
          "text": [
            "  Country  Year   Mounth  ...  Weather  SolarPV_Consumption  BelowUnderAvg\n",
            "0      TR  2006  January  ...        0                 5743              0\n",
            "1      TR  2006  January  ...        0                 5524              0\n",
            "2      TR  2006  January  ...        1                 5991              0\n",
            "3      TR  2006  January  ...        1                 6027              0\n",
            "4      TR  2006  January  ...        1                 6065              0\n",
            "\n",
            "[5 rows x 8 columns]\n"
          ],
          "name": "stdout"
        }
      ]
    },
    {
      "cell_type": "markdown",
      "metadata": {
        "id": "YUnCslNG7Vqm"
      },
      "source": [
        "Bize iki bağımlı değişken olan *Panel Count* ve *Weather* ile bağımlı değişken olan *BelowUnderAvg* gerekiyor. Sadece bu kolonlardan oluşan bir *DataFrame* oluşturalım bu *DataFrame*'e data ismini verelim.\n",
        "\n",
        "Not: *DataFrame*, pandas kütüphanesinde standart olan bir sınıf ismidir. Bir önceki satırda *df* ismine atadığımız veri seti aslında bir DataFrame. Bunu Python'ın type fonksiyonu ile doğrulayabiliriz."
      ]
    },
    {
      "cell_type": "code",
      "metadata": {
        "colab": {
          "base_uri": "https://localhost:8080/"
        },
        "id": "kSqqe-8x8NGo",
        "outputId": "f65408be-395b-401f-cacd-8b9d1724ec35"
      },
      "source": [
        "print(type(df))"
      ],
      "execution_count": null,
      "outputs": [
        {
          "output_type": "stream",
          "text": [
            "<class 'pandas.core.frame.DataFrame'>\n"
          ],
          "name": "stdout"
        }
      ]
    },
    {
      "cell_type": "code",
      "metadata": {
        "colab": {
          "base_uri": "https://localhost:8080/"
        },
        "id": "ude6dT0M8Q2G",
        "outputId": "c410d93f-0ceb-44cc-f6f5-0a70a51e7722"
      },
      "source": [
        "data = df[[\"Panel Count\", \"Weather\", \"BelowUnderAvg\"]]  # İstediğimiz 3 kolondan oluşan bir dataframe \n",
        "print(data.head())"
      ],
      "execution_count": null,
      "outputs": [
        {
          "output_type": "stream",
          "text": [
            "   Panel Count  Weather  BelowUnderAvg\n",
            "0           50        0              0\n",
            "1           50        0              0\n",
            "2          100        1              0\n",
            "3          100        1              0\n",
            "4          100        1              0\n"
          ],
          "name": "stdout"
        }
      ]
    },
    {
      "cell_type": "markdown",
      "metadata": {
        "id": "JPxxRcgZ9sLh"
      },
      "source": [
        "## Karar Ağacı Sınıflandırması\n",
        "\n",
        "Karar ağaçları parametresi sınıflandırma ve regresyon problemleri için olan gözetimli öğrenme metodudur. Amaç, veri özelliklerinden çıkarılan basit karar kurallarını öğrenerek bir hedef değişkenin değerini tahmin eden bir model oluşturmaktır. Öncelikle, bizim için *Panel Count* ve *Weather* kolonlarına dikkat ederek *BelowUnderAvg* değişkeninin olması gereken değerlerini bulabilen bir model gerekmekte. Bu yüzden modele öğrenmesi gereken veri parçaları olan bağımsız değişkenleri *X*, tahmin etmesi gereken veri parçası olan bağımlı değişkeni ise *Y* isimle değişkenlere atayacağız.\n"
      ]
    },
    {
      "cell_type": "code",
      "metadata": {
        "id": "BQ1O5ZX1wq9A"
      },
      "source": [
        "X = data[[\"Panel Count\", \"Weather\"]]\n",
        "Y = data[\"BelowUnderAvg\"]"
      ],
      "execution_count": null,
      "outputs": []
    },
    {
      "cell_type": "markdown",
      "metadata": {
        "id": "F4J__aW3-z4Y"
      },
      "source": [
        "Şimdi sklearn kütüphanesini kullanarak bir DecisionTreeClassifier (karar ağaç sınıflandırıcı) modeli eğitip sonuçları karşılaştıracağız."
      ]
    },
    {
      "cell_type": "code",
      "metadata": {
        "id": "AkgkRkgM-_fx"
      },
      "source": [
        "clf = tree.DecisionTreeClassifier()  # Sınıflandırıcıyı oluşturduk\n",
        "cl = clf.fit(X, Y)"
      ],
      "execution_count": null,
      "outputs": []
    },
    {
      "cell_type": "code",
      "metadata": {
        "colab": {
          "base_uri": "https://localhost:8080/",
          "height": 333
        },
        "id": "ywlnD3K7_Ofo",
        "outputId": "96f4ad15-38d3-4fa9-a27d-761b32ad9e4a"
      },
      "source": [
        "tree.plot_tree(clf) "
      ],
      "execution_count": null,
      "outputs": [
        {
          "output_type": "execute_result",
          "data": {
            "text/plain": [
              "[Text(133.92000000000002, 181.2, 'X[1] <= 0.5\\ngini = 0.458\\nsamples = 31\\nvalue = [11, 20]'),\n",
              " Text(66.96000000000001, 108.72, 'gini = 0.0\\nsamples = 6\\nvalue = [6, 0]'),\n",
              " Text(200.88000000000002, 108.72, 'X[0] <= 75.0\\ngini = 0.32\\nsamples = 25\\nvalue = [5, 20]'),\n",
              " Text(133.92000000000002, 36.23999999999998, 'gini = 0.5\\nsamples = 2\\nvalue = [1, 1]'),\n",
              " Text(267.84000000000003, 36.23999999999998, 'gini = 0.287\\nsamples = 23\\nvalue = [4, 19]')]"
            ]
          },
          "metadata": {
            "tags": []
          },
          "execution_count": 8
        },
        {
          "output_type": "display_data",
          "data": {
            "image/png": "[encoded data removed]",
            "text/plain": [
              "<Figure size 432x288 with 1 Axes>"
            ]
          },
          "metadata": {
            "tags": [],
            "needs_background": "light"
          }
        }
      ]
    },
    {
      "cell_type": "code",
      "metadata": {
        "colab": {
          "base_uri": "https://localhost:8080/",
          "height": 530
        },
        "id": "g42sGaMcAGK8",
        "outputId": "d3e97469-75d0-40c6-90a6-670f75917e87"
      },
      "source": [
        "fn=['Panel Count','Weather']\n",
        "cn=[\"BelowUnderAvg=0\", \"BelowUnderAvg=1\"]\n",
        "fig, axes = plt.subplots(nrows = 1,ncols = 1,figsize = (2,2), dpi=300)\n",
        "tree.plot_tree(clf, feature_names = fn, class_names=cn, filled = True);"
      ],
      "execution_count": null,
      "outputs": [
        {
          "output_type": "display_data",
          "data": {
            "image/png": "[encoded data removed]",
            "text/plain": [
              "<Figure size 600x600 with 1 Axes>"
            ]
          },
          "metadata": {
            "tags": [],
            "needs_background": "light"
          }
        }
      ]
    },
    {
      "cell_type": "code",
      "metadata": {
        "colab": {
          "base_uri": "https://localhost:8080/"
        },
        "id": "AVI9Ze_gVNiT",
        "outputId": "872169fd-b7b8-4fe2-968e-568e568f8af3"
      },
      "source": [
        "clf.score(X, Y)"
      ],
      "execution_count": null,
      "outputs": [
        {
          "output_type": "execute_result",
          "data": {
            "text/plain": [
              "0.8387096774193549"
            ]
          },
          "metadata": {
            "tags": []
          },
          "execution_count": 10
        }
      ]
    },
    {
      "cell_type": "code",
      "metadata": {
        "id": "WaF6eZ1ZWNSf"
      },
      "source": [
        "pred = clf.predict(X)"
      ],
      "execution_count": null,
      "outputs": []
    },
    {
      "cell_type": "code",
      "metadata": {
        "id": "-tTEdVM7WdVJ"
      },
      "source": [
        "datam = {'Y':Y.to_numpy(),\n",
        "        'pred':pred}\n",
        "  \n",
        "# Create DataFrame\n",
        "df_scatter = pd.DataFrame(datam)"
      ],
      "execution_count": null,
      "outputs": []
    },
    {
      "cell_type": "code",
      "metadata": {
        "colab": {
          "base_uri": "https://localhost:8080/",
          "height": 296
        },
        "id": "XTNfYyy2WygJ",
        "outputId": "215d3b54-8523-4f49-8110-aba559d8aaec"
      },
      "source": [
        "df_scatter.plot.scatter(x='Y',\n",
        "                      y='pred')"
      ],
      "execution_count": null,
      "outputs": [
        {
          "output_type": "execute_result",
          "data": {
            "text/plain": [
              "<matplotlib.axes._subplots.AxesSubplot at 0x7f8c93bf5ed0>"
            ]
          },
          "metadata": {
            "tags": []
          },
          "execution_count": 13
        },
        {
          "output_type": "display_data",
          "data": {
            "image/png": "[encoded data removed]",
            "text/plain": [
              "<Figure size 432x288 with 1 Axes>"
            ]
          },
          "metadata": {
            "tags": [],
            "needs_background": "light"
          }
        }
      ]
    },
    {
      "cell_type": "code",
      "metadata": {
        "colab": {
          "base_uri": "https://localhost:8080/",
          "height": 1000
        },
        "id": "n7LLdQPrXLGG",
        "outputId": "247bf2a0-bfc5-484f-c1ed-8c68342b0029"
      },
      "source": [
        "df_scatter"
      ],
      "execution_count": null,
      "outputs": [
        {
          "output_type": "execute_result",
          "data": {
            "text/html": [
              "<div>\n",
              "<style scoped>\n",
              "    .dataframe tbody tr th:only-of-type {\n",
              "        vertical-align: middle;\n",
              "    }\n",
              "\n",
              "    .dataframe tbody tr th {\n",
              "        vertical-align: top;\n",
              "    }\n",
              "\n",
              "    .dataframe thead th {\n",
              "        text-align: right;\n",
              "    }\n",
              "</style>\n",
              "<table border=\"1\" class=\"dataframe\">\n",
              "  <thead>\n",
              "    <tr style=\"text-align: right;\">\n",
              "      <th></th>\n",
              "      <th>Y</th>\n",
              "      <th>pred</th>\n",
              "    </tr>\n",
              "  </thead>\n",
              "  <tbody>\n",
              "    <tr>\n",
              "      <th>0</th>\n",
              "      <td>0</td>\n",
              "      <td>0</td>\n",
              "    </tr>\n",
              "    <tr>\n",
              "      <th>1</th>\n",
              "      <td>0</td>\n",
              "      <td>0</td>\n",
              "    </tr>\n",
              "    <tr>\n",
              "      <th>2</th>\n",
              "      <td>0</td>\n",
              "      <td>1</td>\n",
              "    </tr>\n",
              "    <tr>\n",
              "      <th>3</th>\n",
              "      <td>0</td>\n",
              "      <td>1</td>\n",
              "    </tr>\n",
              "    <tr>\n",
              "      <th>4</th>\n",
              "      <td>0</td>\n",
              "      <td>1</td>\n",
              "    </tr>\n",
              "    <tr>\n",
              "      <th>5</th>\n",
              "      <td>0</td>\n",
              "      <td>0</td>\n",
              "    </tr>\n",
              "    <tr>\n",
              "      <th>6</th>\n",
              "      <td>0</td>\n",
              "      <td>0</td>\n",
              "    </tr>\n",
              "    <tr>\n",
              "      <th>7</th>\n",
              "      <td>0</td>\n",
              "      <td>0</td>\n",
              "    </tr>\n",
              "    <tr>\n",
              "      <th>8</th>\n",
              "      <td>0</td>\n",
              "      <td>0</td>\n",
              "    </tr>\n",
              "    <tr>\n",
              "      <th>9</th>\n",
              "      <td>1</td>\n",
              "      <td>1</td>\n",
              "    </tr>\n",
              "    <tr>\n",
              "      <th>10</th>\n",
              "      <td>1</td>\n",
              "      <td>1</td>\n",
              "    </tr>\n",
              "    <tr>\n",
              "      <th>11</th>\n",
              "      <td>1</td>\n",
              "      <td>1</td>\n",
              "    </tr>\n",
              "    <tr>\n",
              "      <th>12</th>\n",
              "      <td>1</td>\n",
              "      <td>1</td>\n",
              "    </tr>\n",
              "    <tr>\n",
              "      <th>13</th>\n",
              "      <td>1</td>\n",
              "      <td>0</td>\n",
              "    </tr>\n",
              "    <tr>\n",
              "      <th>14</th>\n",
              "      <td>0</td>\n",
              "      <td>1</td>\n",
              "    </tr>\n",
              "    <tr>\n",
              "      <th>15</th>\n",
              "      <td>1</td>\n",
              "      <td>1</td>\n",
              "    </tr>\n",
              "    <tr>\n",
              "      <th>16</th>\n",
              "      <td>1</td>\n",
              "      <td>1</td>\n",
              "    </tr>\n",
              "    <tr>\n",
              "      <th>17</th>\n",
              "      <td>1</td>\n",
              "      <td>1</td>\n",
              "    </tr>\n",
              "    <tr>\n",
              "      <th>18</th>\n",
              "      <td>1</td>\n",
              "      <td>1</td>\n",
              "    </tr>\n",
              "    <tr>\n",
              "      <th>19</th>\n",
              "      <td>1</td>\n",
              "      <td>1</td>\n",
              "    </tr>\n",
              "    <tr>\n",
              "      <th>20</th>\n",
              "      <td>1</td>\n",
              "      <td>1</td>\n",
              "    </tr>\n",
              "    <tr>\n",
              "      <th>21</th>\n",
              "      <td>0</td>\n",
              "      <td>0</td>\n",
              "    </tr>\n",
              "    <tr>\n",
              "      <th>22</th>\n",
              "      <td>1</td>\n",
              "      <td>1</td>\n",
              "    </tr>\n",
              "    <tr>\n",
              "      <th>23</th>\n",
              "      <td>1</td>\n",
              "      <td>1</td>\n",
              "    </tr>\n",
              "    <tr>\n",
              "      <th>24</th>\n",
              "      <td>1</td>\n",
              "      <td>1</td>\n",
              "    </tr>\n",
              "    <tr>\n",
              "      <th>25</th>\n",
              "      <td>1</td>\n",
              "      <td>1</td>\n",
              "    </tr>\n",
              "    <tr>\n",
              "      <th>26</th>\n",
              "      <td>1</td>\n",
              "      <td>1</td>\n",
              "    </tr>\n",
              "    <tr>\n",
              "      <th>27</th>\n",
              "      <td>1</td>\n",
              "      <td>1</td>\n",
              "    </tr>\n",
              "    <tr>\n",
              "      <th>28</th>\n",
              "      <td>1</td>\n",
              "      <td>1</td>\n",
              "    </tr>\n",
              "    <tr>\n",
              "      <th>29</th>\n",
              "      <td>1</td>\n",
              "      <td>1</td>\n",
              "    </tr>\n",
              "    <tr>\n",
              "      <th>30</th>\n",
              "      <td>1</td>\n",
              "      <td>1</td>\n",
              "    </tr>\n",
              "  </tbody>\n",
              "</table>\n",
              "</div>"
            ],
            "text/plain": [
              "    Y  pred\n",
              "0   0     0\n",
              "1   0     0\n",
              "2   0     1\n",
              "3   0     1\n",
              "4   0     1\n",
              "5   0     0\n",
              "6   0     0\n",
              "7   0     0\n",
              "8   0     0\n",
              "9   1     1\n",
              "10  1     1\n",
              "11  1     1\n",
              "12  1     1\n",
              "13  1     0\n",
              "14  0     1\n",
              "15  1     1\n",
              "16  1     1\n",
              "17  1     1\n",
              "18  1     1\n",
              "19  1     1\n",
              "20  1     1\n",
              "21  0     0\n",
              "22  1     1\n",
              "23  1     1\n",
              "24  1     1\n",
              "25  1     1\n",
              "26  1     1\n",
              "27  1     1\n",
              "28  1     1\n",
              "29  1     1\n",
              "30  1     1"
            ]
          },
          "metadata": {
            "tags": []
          },
          "execution_count": 14
        }
      ]
    },
    {
      "cell_type": "code",
      "metadata": {
        "colab": {
          "base_uri": "https://localhost:8080/",
          "height": 265
        },
        "id": "pGgIwK_kXf8P",
        "outputId": "da953b06-1c6c-475b-d5c9-c26f1582dcd3"
      },
      "source": [
        "# import pandas module for data analysis\n",
        "import pandas as pd\n",
        "# import seaborn and matplot library for visualization\n",
        "import seaborn as sns  \n",
        "import matplotlib.pyplot as plt\n",
        "\n",
        "x = df_scatter[\"Y\"]\n",
        "y = df_scatter[\"pred\"]\n",
        "\n",
        "plt.plot(x,\"o\")\n",
        "plt.plot(y)\n",
        "\n",
        "plt.show()"
      ],
      "execution_count": null,
      "outputs": [
        {
          "output_type": "display_data",
          "data": {
            "image/png": "[encoded data removed]",
            "text/plain": [
              "<Figure size 432x288 with 1 Axes>"
            ]
          },
          "metadata": {
            "tags": [],
            "needs_background": "light"
          }
        }
      ]
    },
    {
      "cell_type": "markdown",
      "metadata": {
        "id": "_JvVsaFbFPUK"
      },
      "source": [
        "## Daha basit yaklaşım\n",
        "\n",
        "Soruna daha basit bir şekilde yaklaşmamız gerekirse kural tabanlı bir sistem oluşturabiliriz. Şöyleki, eğer panel sayısı 50 (PanelCount) ve hava kapalıysa (Weather=0), BelowUnderAvg değerinin 0 olması beklenir. Diğer durum ise panel sayısı 100, hava güneşli ise (Weather=1), BelowUnderAvg değerinin 1 olması beklenir. "
      ]
    },
    {
      "cell_type": "markdown",
      "metadata": {
        "id": "OITvKqJ0IiW8"
      },
      "source": [
        "Panel sayısı 50 ve hava kapalıyken üretimi ortalamanın üstünde (aykırı durum)"
      ]
    },
    {
      "cell_type": "code",
      "metadata": {
        "colab": {
          "base_uri": "https://localhost:8080/",
          "height": 49
        },
        "id": "oeRSGDOKGlY8",
        "outputId": "a04994b4-2d45-41d1-8d0c-087785de154f"
      },
      "source": [
        "data[(data[\"Panel Count\"] <= 50) & ( data[\"Weather\"] == 0) & (data[\"BelowUnderAvg\"] == 1)]"
      ],
      "execution_count": null,
      "outputs": [
        {
          "output_type": "execute_result",
          "data": {
            "text/html": [
              "<div>\n",
              "<style scoped>\n",
              "    .dataframe tbody tr th:only-of-type {\n",
              "        vertical-align: middle;\n",
              "    }\n",
              "\n",
              "    .dataframe tbody tr th {\n",
              "        vertical-align: top;\n",
              "    }\n",
              "\n",
              "    .dataframe thead th {\n",
              "        text-align: right;\n",
              "    }\n",
              "</style>\n",
              "<table border=\"1\" class=\"dataframe\">\n",
              "  <thead>\n",
              "    <tr style=\"text-align: right;\">\n",
              "      <th></th>\n",
              "      <th>Panel Count</th>\n",
              "      <th>Weather</th>\n",
              "      <th>BelowUnderAvg</th>\n",
              "    </tr>\n",
              "  </thead>\n",
              "  <tbody>\n",
              "  </tbody>\n",
              "</table>\n",
              "</div>"
            ],
            "text/plain": [
              "Empty DataFrame\n",
              "Columns: [Panel Count, Weather, BelowUnderAvg]\n",
              "Index: []"
            ]
          },
          "metadata": {
            "tags": []
          },
          "execution_count": 16
        }
      ]
    },
    {
      "cell_type": "markdown",
      "metadata": {
        "id": "DjiRdN_WIvb3"
      },
      "source": [
        "Panel sayısı 50 ve hava kapalıyken üretimi ortalamanın altında (beklenen durum)"
      ]
    },
    {
      "cell_type": "code",
      "metadata": {
        "colab": {
          "base_uri": "https://localhost:8080/",
          "height": 173
        },
        "id": "uV6G2u6mJI0w",
        "outputId": "17507e6f-c177-4309-fad0-748add641986"
      },
      "source": [
        "data[(data[\"Panel Count\"] <= 50) & ( data[\"Weather\"] == 0) & (data[\"BelowUnderAvg\"] == 0)]"
      ],
      "execution_count": null,
      "outputs": [
        {
          "output_type": "execute_result",
          "data": {
            "text/html": [
              "<div>\n",
              "<style scoped>\n",
              "    .dataframe tbody tr th:only-of-type {\n",
              "        vertical-align: middle;\n",
              "    }\n",
              "\n",
              "    .dataframe tbody tr th {\n",
              "        vertical-align: top;\n",
              "    }\n",
              "\n",
              "    .dataframe thead th {\n",
              "        text-align: right;\n",
              "    }\n",
              "</style>\n",
              "<table border=\"1\" class=\"dataframe\">\n",
              "  <thead>\n",
              "    <tr style=\"text-align: right;\">\n",
              "      <th></th>\n",
              "      <th>Panel Count</th>\n",
              "      <th>Weather</th>\n",
              "      <th>BelowUnderAvg</th>\n",
              "    </tr>\n",
              "  </thead>\n",
              "  <tbody>\n",
              "    <tr>\n",
              "      <th>0</th>\n",
              "      <td>50</td>\n",
              "      <td>0</td>\n",
              "      <td>0</td>\n",
              "    </tr>\n",
              "    <tr>\n",
              "      <th>1</th>\n",
              "      <td>50</td>\n",
              "      <td>0</td>\n",
              "      <td>0</td>\n",
              "    </tr>\n",
              "    <tr>\n",
              "      <th>6</th>\n",
              "      <td>50</td>\n",
              "      <td>0</td>\n",
              "      <td>0</td>\n",
              "    </tr>\n",
              "    <tr>\n",
              "      <th>7</th>\n",
              "      <td>50</td>\n",
              "      <td>0</td>\n",
              "      <td>0</td>\n",
              "    </tr>\n",
              "  </tbody>\n",
              "</table>\n",
              "</div>"
            ],
            "text/plain": [
              "   Panel Count  Weather  BelowUnderAvg\n",
              "0           50        0              0\n",
              "1           50        0              0\n",
              "6           50        0              0\n",
              "7           50        0              0"
            ]
          },
          "metadata": {
            "tags": []
          },
          "execution_count": 17
        }
      ]
    },
    {
      "cell_type": "markdown",
      "metadata": {
        "id": "nsmt9l4vJTRb"
      },
      "source": [
        "Panel sayısı 50 ve hava açık iken üretimi ortalamanın üstünde olan"
      ]
    },
    {
      "cell_type": "code",
      "metadata": {
        "colab": {
          "base_uri": "https://localhost:8080/",
          "height": 80
        },
        "id": "QGAmMHLkJWLi",
        "outputId": "726093e1-b4b8-464f-d502-e79711e9aec7"
      },
      "source": [
        "data[(data[\"Panel Count\"] <= 50) & ( data[\"Weather\"] == 1) & (data[\"BelowUnderAvg\"] == 1)]"
      ],
      "execution_count": null,
      "outputs": [
        {
          "output_type": "execute_result",
          "data": {
            "text/html": [
              "<div>\n",
              "<style scoped>\n",
              "    .dataframe tbody tr th:only-of-type {\n",
              "        vertical-align: middle;\n",
              "    }\n",
              "\n",
              "    .dataframe tbody tr th {\n",
              "        vertical-align: top;\n",
              "    }\n",
              "\n",
              "    .dataframe thead th {\n",
              "        text-align: right;\n",
              "    }\n",
              "</style>\n",
              "<table border=\"1\" class=\"dataframe\">\n",
              "  <thead>\n",
              "    <tr style=\"text-align: right;\">\n",
              "      <th></th>\n",
              "      <th>Panel Count</th>\n",
              "      <th>Weather</th>\n",
              "      <th>BelowUnderAvg</th>\n",
              "    </tr>\n",
              "  </thead>\n",
              "  <tbody>\n",
              "    <tr>\n",
              "      <th>13</th>\n",
              "      <td>50</td>\n",
              "      <td>1</td>\n",
              "      <td>1</td>\n",
              "    </tr>\n",
              "  </tbody>\n",
              "</table>\n",
              "</div>"
            ],
            "text/plain": [
              "    Panel Count  Weather  BelowUnderAvg\n",
              "13           50        1              1"
            ]
          },
          "metadata": {
            "tags": []
          },
          "execution_count": 18
        }
      ]
    },
    {
      "cell_type": "markdown",
      "metadata": {
        "id": "zlsFlAkKIWOF"
      },
      "source": [
        "Panel sayısı 50 ve hava açık iken üretimi ortalamanın altında olan"
      ]
    },
    {
      "cell_type": "code",
      "metadata": {
        "colab": {
          "base_uri": "https://localhost:8080/",
          "height": 80
        },
        "id": "g-Ib_LzCHh0V",
        "outputId": "66270168-43b0-46de-e605-45825f148d43"
      },
      "source": [
        "data[(data[\"Panel Count\"] <= 50) & ( data[\"Weather\"] == 1) & (data[\"BelowUnderAvg\"] == 0)]"
      ],
      "execution_count": null,
      "outputs": [
        {
          "output_type": "execute_result",
          "data": {
            "text/html": [
              "<div>\n",
              "<style scoped>\n",
              "    .dataframe tbody tr th:only-of-type {\n",
              "        vertical-align: middle;\n",
              "    }\n",
              "\n",
              "    .dataframe tbody tr th {\n",
              "        vertical-align: top;\n",
              "    }\n",
              "\n",
              "    .dataframe thead th {\n",
              "        text-align: right;\n",
              "    }\n",
              "</style>\n",
              "<table border=\"1\" class=\"dataframe\">\n",
              "  <thead>\n",
              "    <tr style=\"text-align: right;\">\n",
              "      <th></th>\n",
              "      <th>Panel Count</th>\n",
              "      <th>Weather</th>\n",
              "      <th>BelowUnderAvg</th>\n",
              "    </tr>\n",
              "  </thead>\n",
              "  <tbody>\n",
              "    <tr>\n",
              "      <th>5</th>\n",
              "      <td>50</td>\n",
              "      <td>1</td>\n",
              "      <td>0</td>\n",
              "    </tr>\n",
              "  </tbody>\n",
              "</table>\n",
              "</div>"
            ],
            "text/plain": [
              "   Panel Count  Weather  BelowUnderAvg\n",
              "5           50        1              0"
            ]
          },
          "metadata": {
            "tags": []
          },
          "execution_count": 19
        }
      ]
    },
    {
      "cell_type": "markdown",
      "metadata": {
        "id": "LWxjNtS4IHUa"
      },
      "source": [
        "Panel sayısı 100 ve hava kapalı iken üretim ortalamanın üstünde (aykırı durum)"
      ]
    },
    {
      "cell_type": "code",
      "metadata": {
        "colab": {
          "base_uri": "https://localhost:8080/",
          "height": 49
        },
        "id": "R-UUHPSdHlOy",
        "outputId": "aeb5cbae-1781-40a4-f0ca-2091190509f2"
      },
      "source": [
        "data[(data[\"Panel Count\"] > 50) & ( data[\"Weather\"] == 0) & (data[\"BelowUnderAvg\"] == 1)]"
      ],
      "execution_count": null,
      "outputs": [
        {
          "output_type": "execute_result",
          "data": {
            "text/html": [
              "<div>\n",
              "<style scoped>\n",
              "    .dataframe tbody tr th:only-of-type {\n",
              "        vertical-align: middle;\n",
              "    }\n",
              "\n",
              "    .dataframe tbody tr th {\n",
              "        vertical-align: top;\n",
              "    }\n",
              "\n",
              "    .dataframe thead th {\n",
              "        text-align: right;\n",
              "    }\n",
              "</style>\n",
              "<table border=\"1\" class=\"dataframe\">\n",
              "  <thead>\n",
              "    <tr style=\"text-align: right;\">\n",
              "      <th></th>\n",
              "      <th>Panel Count</th>\n",
              "      <th>Weather</th>\n",
              "      <th>BelowUnderAvg</th>\n",
              "    </tr>\n",
              "  </thead>\n",
              "  <tbody>\n",
              "  </tbody>\n",
              "</table>\n",
              "</div>"
            ],
            "text/plain": [
              "Empty DataFrame\n",
              "Columns: [Panel Count, Weather, BelowUnderAvg]\n",
              "Index: []"
            ]
          },
          "metadata": {
            "tags": []
          },
          "execution_count": 20
        }
      ]
    },
    {
      "cell_type": "markdown",
      "metadata": {
        "id": "b6w_LJ6JJjxB"
      },
      "source": [
        "Panel sayısı 100 ve hava kapalı iken üretim ortalamanın altında (beklenen durum)"
      ]
    },
    {
      "cell_type": "code",
      "metadata": {
        "colab": {
          "base_uri": "https://localhost:8080/",
          "height": 111
        },
        "id": "GwnDv-nyJmX2",
        "outputId": "2d2aa34f-3252-4861-db8c-3299f48fde4c"
      },
      "source": [
        "data[(data[\"Panel Count\"] > 50) & ( data[\"Weather\"] == 0) & (data[\"BelowUnderAvg\"] == 0)]"
      ],
      "execution_count": null,
      "outputs": [
        {
          "output_type": "execute_result",
          "data": {
            "text/html": [
              "<div>\n",
              "<style scoped>\n",
              "    .dataframe tbody tr th:only-of-type {\n",
              "        vertical-align: middle;\n",
              "    }\n",
              "\n",
              "    .dataframe tbody tr th {\n",
              "        vertical-align: top;\n",
              "    }\n",
              "\n",
              "    .dataframe thead th {\n",
              "        text-align: right;\n",
              "    }\n",
              "</style>\n",
              "<table border=\"1\" class=\"dataframe\">\n",
              "  <thead>\n",
              "    <tr style=\"text-align: right;\">\n",
              "      <th></th>\n",
              "      <th>Panel Count</th>\n",
              "      <th>Weather</th>\n",
              "      <th>BelowUnderAvg</th>\n",
              "    </tr>\n",
              "  </thead>\n",
              "  <tbody>\n",
              "    <tr>\n",
              "      <th>8</th>\n",
              "      <td>100</td>\n",
              "      <td>0</td>\n",
              "      <td>0</td>\n",
              "    </tr>\n",
              "    <tr>\n",
              "      <th>21</th>\n",
              "      <td>100</td>\n",
              "      <td>0</td>\n",
              "      <td>0</td>\n",
              "    </tr>\n",
              "  </tbody>\n",
              "</table>\n",
              "</div>"
            ],
            "text/plain": [
              "    Panel Count  Weather  BelowUnderAvg\n",
              "8           100        0              0\n",
              "21          100        0              0"
            ]
          },
          "metadata": {
            "tags": []
          },
          "execution_count": 21
        }
      ]
    },
    {
      "cell_type": "markdown",
      "metadata": {
        "id": "td-u1PwEJsE7"
      },
      "source": [
        "Panel sayısı 100 ve hava açık iken üretim ortalamanın üstünde (beklenen durum)"
      ]
    },
    {
      "cell_type": "code",
      "metadata": {
        "colab": {
          "base_uri": "https://localhost:8080/",
          "height": 638
        },
        "id": "ZJ7DzpqDJ0DP",
        "outputId": "32eb2fdf-4b38-45e8-bb00-aead7720b3a6"
      },
      "source": [
        "data[(data[\"Panel Count\"] > 50) & (data[\"Weather\"] == 1) & (data[\"BelowUnderAvg\"] == 1)]"
      ],
      "execution_count": null,
      "outputs": [
        {
          "output_type": "execute_result",
          "data": {
            "text/html": [
              "<div>\n",
              "<style scoped>\n",
              "    .dataframe tbody tr th:only-of-type {\n",
              "        vertical-align: middle;\n",
              "    }\n",
              "\n",
              "    .dataframe tbody tr th {\n",
              "        vertical-align: top;\n",
              "    }\n",
              "\n",
              "    .dataframe thead th {\n",
              "        text-align: right;\n",
              "    }\n",
              "</style>\n",
              "<table border=\"1\" class=\"dataframe\">\n",
              "  <thead>\n",
              "    <tr style=\"text-align: right;\">\n",
              "      <th></th>\n",
              "      <th>Panel Count</th>\n",
              "      <th>Weather</th>\n",
              "      <th>BelowUnderAvg</th>\n",
              "    </tr>\n",
              "  </thead>\n",
              "  <tbody>\n",
              "    <tr>\n",
              "      <th>9</th>\n",
              "      <td>100</td>\n",
              "      <td>1</td>\n",
              "      <td>1</td>\n",
              "    </tr>\n",
              "    <tr>\n",
              "      <th>10</th>\n",
              "      <td>100</td>\n",
              "      <td>1</td>\n",
              "      <td>1</td>\n",
              "    </tr>\n",
              "    <tr>\n",
              "      <th>11</th>\n",
              "      <td>100</td>\n",
              "      <td>1</td>\n",
              "      <td>1</td>\n",
              "    </tr>\n",
              "    <tr>\n",
              "      <th>12</th>\n",
              "      <td>100</td>\n",
              "      <td>1</td>\n",
              "      <td>1</td>\n",
              "    </tr>\n",
              "    <tr>\n",
              "      <th>15</th>\n",
              "      <td>100</td>\n",
              "      <td>1</td>\n",
              "      <td>1</td>\n",
              "    </tr>\n",
              "    <tr>\n",
              "      <th>16</th>\n",
              "      <td>100</td>\n",
              "      <td>1</td>\n",
              "      <td>1</td>\n",
              "    </tr>\n",
              "    <tr>\n",
              "      <th>17</th>\n",
              "      <td>100</td>\n",
              "      <td>1</td>\n",
              "      <td>1</td>\n",
              "    </tr>\n",
              "    <tr>\n",
              "      <th>18</th>\n",
              "      <td>100</td>\n",
              "      <td>1</td>\n",
              "      <td>1</td>\n",
              "    </tr>\n",
              "    <tr>\n",
              "      <th>19</th>\n",
              "      <td>100</td>\n",
              "      <td>1</td>\n",
              "      <td>1</td>\n",
              "    </tr>\n",
              "    <tr>\n",
              "      <th>20</th>\n",
              "      <td>100</td>\n",
              "      <td>1</td>\n",
              "      <td>1</td>\n",
              "    </tr>\n",
              "    <tr>\n",
              "      <th>22</th>\n",
              "      <td>100</td>\n",
              "      <td>1</td>\n",
              "      <td>1</td>\n",
              "    </tr>\n",
              "    <tr>\n",
              "      <th>23</th>\n",
              "      <td>100</td>\n",
              "      <td>1</td>\n",
              "      <td>1</td>\n",
              "    </tr>\n",
              "    <tr>\n",
              "      <th>24</th>\n",
              "      <td>100</td>\n",
              "      <td>1</td>\n",
              "      <td>1</td>\n",
              "    </tr>\n",
              "    <tr>\n",
              "      <th>25</th>\n",
              "      <td>100</td>\n",
              "      <td>1</td>\n",
              "      <td>1</td>\n",
              "    </tr>\n",
              "    <tr>\n",
              "      <th>26</th>\n",
              "      <td>100</td>\n",
              "      <td>1</td>\n",
              "      <td>1</td>\n",
              "    </tr>\n",
              "    <tr>\n",
              "      <th>27</th>\n",
              "      <td>100</td>\n",
              "      <td>1</td>\n",
              "      <td>1</td>\n",
              "    </tr>\n",
              "    <tr>\n",
              "      <th>28</th>\n",
              "      <td>100</td>\n",
              "      <td>1</td>\n",
              "      <td>1</td>\n",
              "    </tr>\n",
              "    <tr>\n",
              "      <th>29</th>\n",
              "      <td>100</td>\n",
              "      <td>1</td>\n",
              "      <td>1</td>\n",
              "    </tr>\n",
              "    <tr>\n",
              "      <th>30</th>\n",
              "      <td>100</td>\n",
              "      <td>1</td>\n",
              "      <td>1</td>\n",
              "    </tr>\n",
              "  </tbody>\n",
              "</table>\n",
              "</div>"
            ],
            "text/plain": [
              "    Panel Count  Weather  BelowUnderAvg\n",
              "9           100        1              1\n",
              "10          100        1              1\n",
              "11          100        1              1\n",
              "12          100        1              1\n",
              "15          100        1              1\n",
              "16          100        1              1\n",
              "17          100        1              1\n",
              "18          100        1              1\n",
              "19          100        1              1\n",
              "20          100        1              1\n",
              "22          100        1              1\n",
              "23          100        1              1\n",
              "24          100        1              1\n",
              "25          100        1              1\n",
              "26          100        1              1\n",
              "27          100        1              1\n",
              "28          100        1              1\n",
              "29          100        1              1\n",
              "30          100        1              1"
            ]
          },
          "metadata": {
            "tags": []
          },
          "execution_count": 22
        }
      ]
    },
    {
      "cell_type": "markdown",
      "metadata": {
        "id": "uu-gjGM2H8nm"
      },
      "source": [
        "Panel sayısı 100 ve hava açık iken üretim ortalamanın altında (aykırı durum) "
      ]
    },
    {
      "cell_type": "code",
      "metadata": {
        "colab": {
          "base_uri": "https://localhost:8080/",
          "height": 173
        },
        "id": "NSbbsg3HHtCD",
        "outputId": "62d66a87-561a-4cd3-fae0-d36b04aab634"
      },
      "source": [
        "data[(data[\"Panel Count\"] > 50) & (data[\"Weather\"] == 1) & (data[\"BelowUnderAvg\"] == 0)]\n"
      ],
      "execution_count": null,
      "outputs": [
        {
          "output_type": "execute_result",
          "data": {
            "text/html": [
              "<div>\n",
              "<style scoped>\n",
              "    .dataframe tbody tr th:only-of-type {\n",
              "        vertical-align: middle;\n",
              "    }\n",
              "\n",
              "    .dataframe tbody tr th {\n",
              "        vertical-align: top;\n",
              "    }\n",
              "\n",
              "    .dataframe thead th {\n",
              "        text-align: right;\n",
              "    }\n",
              "</style>\n",
              "<table border=\"1\" class=\"dataframe\">\n",
              "  <thead>\n",
              "    <tr style=\"text-align: right;\">\n",
              "      <th></th>\n",
              "      <th>Panel Count</th>\n",
              "      <th>Weather</th>\n",
              "      <th>BelowUnderAvg</th>\n",
              "    </tr>\n",
              "  </thead>\n",
              "  <tbody>\n",
              "    <tr>\n",
              "      <th>2</th>\n",
              "      <td>100</td>\n",
              "      <td>1</td>\n",
              "      <td>0</td>\n",
              "    </tr>\n",
              "    <tr>\n",
              "      <th>3</th>\n",
              "      <td>100</td>\n",
              "      <td>1</td>\n",
              "      <td>0</td>\n",
              "    </tr>\n",
              "    <tr>\n",
              "      <th>4</th>\n",
              "      <td>100</td>\n",
              "      <td>1</td>\n",
              "      <td>0</td>\n",
              "    </tr>\n",
              "    <tr>\n",
              "      <th>14</th>\n",
              "      <td>100</td>\n",
              "      <td>1</td>\n",
              "      <td>0</td>\n",
              "    </tr>\n",
              "  </tbody>\n",
              "</table>\n",
              "</div>"
            ],
            "text/plain": [
              "    Panel Count  Weather  BelowUnderAvg\n",
              "2           100        1              0\n",
              "3           100        1              0\n",
              "4           100        1              0\n",
              "14          100        1              0"
            ]
          },
          "metadata": {
            "tags": []
          },
          "execution_count": 23
        }
      ]
    },
    {
      "cell_type": "code",
      "metadata": {
        "colab": {
          "base_uri": "https://localhost:8080/"
        },
        "id": "Tly5DILSQCuc",
        "outputId": "a3b4055a-30fd-4c57-be28-b00c95e5c482"
      },
      "source": [
        "data[\"merged\"] = data[\"Panel Count\"].astype(str) + data[\"Weather\"].astype(str)"
      ],
      "execution_count": null,
      "outputs": [
        {
          "output_type": "stream",
          "text": [
            "/usr/local/lib/python3.7/dist-packages/ipykernel_launcher.py:1: SettingWithCopyWarning: \n",
            "A value is trying to be set on a copy of a slice from a DataFrame.\n",
            "Try using .loc[row_indexer,col_indexer] = value instead\n",
            "\n",
            "See the caveats in the documentation: https://pandas.pydata.org/pandas-docs/stable/user_guide/indexing.html#returning-a-view-versus-a-copy\n",
            "  \"\"\"Entry point for launching an IPython kernel.\n"
          ],
          "name": "stderr"
        }
      ]
    },
    {
      "cell_type": "code",
      "metadata": {
        "id": "CHYHYpYVQKaZ"
      },
      "source": [
        "df[\"mean\"] = df[\"SolarPV_Consumption\"].mean()"
      ],
      "execution_count": null,
      "outputs": []
    },
    {
      "cell_type": "code",
      "metadata": {
        "id": "8PVEVVnjZgg6"
      },
      "source": [
        "df['under'] = (np.where(df['Panel Count'] == 100, 1, 0) & np.where(df['Weather'] == 1, 1, 0) & np.where(df['BelowUnderAvg'] == 1, 1, 0))|(np.where(df['Panel Count'] == 100, 1, 0) & np.where(df['Weather'] == 0, 1, 0) & np.where(df['BelowUnderAvg'] == 0, 1, 0))|(np.where(df['Panel Count'] == 50, 1, 0) & np.where(df['Weather'] == 0, 1, 0) & np.where(df['BelowUnderAvg'] == 0, 1, 0))|(np.where(df['Panel Count'] == 50, 1, 0) & np.where(df['Weather'] == 1, 1, 0) & np.where(df['BelowUnderAvg'] == 1, 1, 0))"
      ],
      "execution_count": null,
      "outputs": []
    },
    {
      "cell_type": "code",
      "metadata": {
        "colab": {
          "base_uri": "https://localhost:8080/",
          "height": 1000
        },
        "id": "M3A6hi5-xLxF",
        "outputId": "57e5885e-c85c-4768-dd8d-00f2629a22f5"
      },
      "source": [
        "df"
      ],
      "execution_count": null,
      "outputs": [
        {
          "output_type": "execute_result",
          "data": {
            "text/html": [
              "<div>\n",
              "<style scoped>\n",
              "    .dataframe tbody tr th:only-of-type {\n",
              "        vertical-align: middle;\n",
              "    }\n",
              "\n",
              "    .dataframe tbody tr th {\n",
              "        vertical-align: top;\n",
              "    }\n",
              "\n",
              "    .dataframe thead th {\n",
              "        text-align: right;\n",
              "    }\n",
              "</style>\n",
              "<table border=\"1\" class=\"dataframe\">\n",
              "  <thead>\n",
              "    <tr style=\"text-align: right;\">\n",
              "      <th></th>\n",
              "      <th>Country</th>\n",
              "      <th>Year</th>\n",
              "      <th>Mounth</th>\n",
              "      <th>Day</th>\n",
              "      <th>Panel Count</th>\n",
              "      <th>Weather</th>\n",
              "      <th>SolarPV_Consumption</th>\n",
              "      <th>BelowUnderAvg</th>\n",
              "      <th>mean</th>\n",
              "      <th>under</th>\n",
              "    </tr>\n",
              "  </thead>\n",
              "  <tbody>\n",
              "    <tr>\n",
              "      <th>0</th>\n",
              "      <td>TR</td>\n",
              "      <td>2006</td>\n",
              "      <td>January</td>\n",
              "      <td>1</td>\n",
              "      <td>50</td>\n",
              "      <td>0</td>\n",
              "      <td>5743</td>\n",
              "      <td>0</td>\n",
              "      <td>6367.354839</td>\n",
              "      <td>1</td>\n",
              "    </tr>\n",
              "    <tr>\n",
              "      <th>1</th>\n",
              "      <td>TR</td>\n",
              "      <td>2006</td>\n",
              "      <td>January</td>\n",
              "      <td>2</td>\n",
              "      <td>50</td>\n",
              "      <td>0</td>\n",
              "      <td>5524</td>\n",
              "      <td>0</td>\n",
              "      <td>6367.354839</td>\n",
              "      <td>1</td>\n",
              "    </tr>\n",
              "    <tr>\n",
              "      <th>2</th>\n",
              "      <td>TR</td>\n",
              "      <td>2006</td>\n",
              "      <td>January</td>\n",
              "      <td>3</td>\n",
              "      <td>100</td>\n",
              "      <td>1</td>\n",
              "      <td>5991</td>\n",
              "      <td>0</td>\n",
              "      <td>6367.354839</td>\n",
              "      <td>0</td>\n",
              "    </tr>\n",
              "    <tr>\n",
              "      <th>3</th>\n",
              "      <td>TR</td>\n",
              "      <td>2006</td>\n",
              "      <td>January</td>\n",
              "      <td>4</td>\n",
              "      <td>100</td>\n",
              "      <td>1</td>\n",
              "      <td>6027</td>\n",
              "      <td>0</td>\n",
              "      <td>6367.354839</td>\n",
              "      <td>0</td>\n",
              "    </tr>\n",
              "    <tr>\n",
              "      <th>4</th>\n",
              "      <td>TR</td>\n",
              "      <td>2006</td>\n",
              "      <td>January</td>\n",
              "      <td>5</td>\n",
              "      <td>100</td>\n",
              "      <td>1</td>\n",
              "      <td>6065</td>\n",
              "      <td>0</td>\n",
              "      <td>6367.354839</td>\n",
              "      <td>0</td>\n",
              "    </tr>\n",
              "    <tr>\n",
              "      <th>5</th>\n",
              "      <td>TR</td>\n",
              "      <td>2006</td>\n",
              "      <td>January</td>\n",
              "      <td>6</td>\n",
              "      <td>50</td>\n",
              "      <td>1</td>\n",
              "      <td>5936</td>\n",
              "      <td>0</td>\n",
              "      <td>6367.354839</td>\n",
              "      <td>0</td>\n",
              "    </tr>\n",
              "    <tr>\n",
              "      <th>6</th>\n",
              "      <td>TR</td>\n",
              "      <td>2006</td>\n",
              "      <td>January</td>\n",
              "      <td>7</td>\n",
              "      <td>50</td>\n",
              "      <td>0</td>\n",
              "      <td>5610</td>\n",
              "      <td>0</td>\n",
              "      <td>6367.354839</td>\n",
              "      <td>1</td>\n",
              "    </tr>\n",
              "    <tr>\n",
              "      <th>7</th>\n",
              "      <td>TR</td>\n",
              "      <td>2006</td>\n",
              "      <td>January</td>\n",
              "      <td>8</td>\n",
              "      <td>50</td>\n",
              "      <td>0</td>\n",
              "      <td>5550</td>\n",
              "      <td>0</td>\n",
              "      <td>6367.354839</td>\n",
              "      <td>1</td>\n",
              "    </tr>\n",
              "    <tr>\n",
              "      <th>8</th>\n",
              "      <td>TR</td>\n",
              "      <td>2006</td>\n",
              "      <td>January</td>\n",
              "      <td>9</td>\n",
              "      <td>100</td>\n",
              "      <td>0</td>\n",
              "      <td>5892</td>\n",
              "      <td>0</td>\n",
              "      <td>6367.354839</td>\n",
              "      <td>1</td>\n",
              "    </tr>\n",
              "    <tr>\n",
              "      <th>9</th>\n",
              "      <td>TR</td>\n",
              "      <td>2006</td>\n",
              "      <td>January</td>\n",
              "      <td>10</td>\n",
              "      <td>100</td>\n",
              "      <td>1</td>\n",
              "      <td>6508</td>\n",
              "      <td>1</td>\n",
              "      <td>6367.354839</td>\n",
              "      <td>1</td>\n",
              "    </tr>\n",
              "    <tr>\n",
              "      <th>10</th>\n",
              "      <td>TR</td>\n",
              "      <td>2006</td>\n",
              "      <td>January</td>\n",
              "      <td>11</td>\n",
              "      <td>100</td>\n",
              "      <td>1</td>\n",
              "      <td>6714</td>\n",
              "      <td>1</td>\n",
              "      <td>6367.354839</td>\n",
              "      <td>1</td>\n",
              "    </tr>\n",
              "    <tr>\n",
              "      <th>11</th>\n",
              "      <td>TR</td>\n",
              "      <td>2006</td>\n",
              "      <td>January</td>\n",
              "      <td>12</td>\n",
              "      <td>100</td>\n",
              "      <td>1</td>\n",
              "      <td>6838</td>\n",
              "      <td>1</td>\n",
              "      <td>6367.354839</td>\n",
              "      <td>1</td>\n",
              "    </tr>\n",
              "    <tr>\n",
              "      <th>12</th>\n",
              "      <td>TR</td>\n",
              "      <td>2006</td>\n",
              "      <td>January</td>\n",
              "      <td>13</td>\n",
              "      <td>100</td>\n",
              "      <td>1</td>\n",
              "      <td>6790</td>\n",
              "      <td>1</td>\n",
              "      <td>6367.354839</td>\n",
              "      <td>1</td>\n",
              "    </tr>\n",
              "    <tr>\n",
              "      <th>13</th>\n",
              "      <td>TR</td>\n",
              "      <td>2006</td>\n",
              "      <td>January</td>\n",
              "      <td>14</td>\n",
              "      <td>50</td>\n",
              "      <td>1</td>\n",
              "      <td>6649</td>\n",
              "      <td>1</td>\n",
              "      <td>6367.354839</td>\n",
              "      <td>1</td>\n",
              "    </tr>\n",
              "    <tr>\n",
              "      <th>14</th>\n",
              "      <td>TR</td>\n",
              "      <td>2006</td>\n",
              "      <td>January</td>\n",
              "      <td>15</td>\n",
              "      <td>100</td>\n",
              "      <td>1</td>\n",
              "      <td>6097</td>\n",
              "      <td>0</td>\n",
              "      <td>6367.354839</td>\n",
              "      <td>0</td>\n",
              "    </tr>\n",
              "    <tr>\n",
              "      <th>15</th>\n",
              "      <td>TR</td>\n",
              "      <td>2006</td>\n",
              "      <td>January</td>\n",
              "      <td>16</td>\n",
              "      <td>100</td>\n",
              "      <td>1</td>\n",
              "      <td>6307</td>\n",
              "      <td>1</td>\n",
              "      <td>6367.354839</td>\n",
              "      <td>1</td>\n",
              "    </tr>\n",
              "    <tr>\n",
              "      <th>16</th>\n",
              "      <td>TR</td>\n",
              "      <td>2006</td>\n",
              "      <td>January</td>\n",
              "      <td>17</td>\n",
              "      <td>100</td>\n",
              "      <td>1</td>\n",
              "      <td>6834</td>\n",
              "      <td>1</td>\n",
              "      <td>6367.354839</td>\n",
              "      <td>1</td>\n",
              "    </tr>\n",
              "    <tr>\n",
              "      <th>17</th>\n",
              "      <td>TR</td>\n",
              "      <td>2006</td>\n",
              "      <td>January</td>\n",
              "      <td>18</td>\n",
              "      <td>100</td>\n",
              "      <td>1</td>\n",
              "      <td>6638</td>\n",
              "      <td>1</td>\n",
              "      <td>6367.354839</td>\n",
              "      <td>1</td>\n",
              "    </tr>\n",
              "    <tr>\n",
              "      <th>18</th>\n",
              "      <td>TR</td>\n",
              "      <td>2006</td>\n",
              "      <td>January</td>\n",
              "      <td>19</td>\n",
              "      <td>100</td>\n",
              "      <td>1</td>\n",
              "      <td>6495</td>\n",
              "      <td>1</td>\n",
              "      <td>6367.354839</td>\n",
              "      <td>1</td>\n",
              "    </tr>\n",
              "    <tr>\n",
              "      <th>19</th>\n",
              "      <td>TR</td>\n",
              "      <td>2006</td>\n",
              "      <td>January</td>\n",
              "      <td>20</td>\n",
              "      <td>100</td>\n",
              "      <td>1</td>\n",
              "      <td>6610</td>\n",
              "      <td>1</td>\n",
              "      <td>6367.354839</td>\n",
              "      <td>1</td>\n",
              "    </tr>\n",
              "    <tr>\n",
              "      <th>20</th>\n",
              "      <td>TR</td>\n",
              "      <td>2006</td>\n",
              "      <td>January</td>\n",
              "      <td>21</td>\n",
              "      <td>100</td>\n",
              "      <td>1</td>\n",
              "      <td>6288</td>\n",
              "      <td>1</td>\n",
              "      <td>6367.354839</td>\n",
              "      <td>1</td>\n",
              "    </tr>\n",
              "    <tr>\n",
              "      <th>21</th>\n",
              "      <td>TR</td>\n",
              "      <td>2006</td>\n",
              "      <td>January</td>\n",
              "      <td>22</td>\n",
              "      <td>100</td>\n",
              "      <td>0</td>\n",
              "      <td>5720</td>\n",
              "      <td>0</td>\n",
              "      <td>6367.354839</td>\n",
              "      <td>1</td>\n",
              "    </tr>\n",
              "    <tr>\n",
              "      <th>22</th>\n",
              "      <td>TR</td>\n",
              "      <td>2006</td>\n",
              "      <td>January</td>\n",
              "      <td>23</td>\n",
              "      <td>100</td>\n",
              "      <td>1</td>\n",
              "      <td>6274</td>\n",
              "      <td>1</td>\n",
              "      <td>6367.354839</td>\n",
              "      <td>1</td>\n",
              "    </tr>\n",
              "    <tr>\n",
              "      <th>23</th>\n",
              "      <td>TR</td>\n",
              "      <td>2006</td>\n",
              "      <td>January</td>\n",
              "      <td>24</td>\n",
              "      <td>100</td>\n",
              "      <td>1</td>\n",
              "      <td>6972</td>\n",
              "      <td>1</td>\n",
              "      <td>6367.354839</td>\n",
              "      <td>1</td>\n",
              "    </tr>\n",
              "    <tr>\n",
              "      <th>24</th>\n",
              "      <td>TR</td>\n",
              "      <td>2006</td>\n",
              "      <td>January</td>\n",
              "      <td>25</td>\n",
              "      <td>100</td>\n",
              "      <td>1</td>\n",
              "      <td>7136</td>\n",
              "      <td>1</td>\n",
              "      <td>6367.354839</td>\n",
              "      <td>1</td>\n",
              "    </tr>\n",
              "    <tr>\n",
              "      <th>25</th>\n",
              "      <td>TR</td>\n",
              "      <td>2006</td>\n",
              "      <td>January</td>\n",
              "      <td>26</td>\n",
              "      <td>100</td>\n",
              "      <td>1</td>\n",
              "      <td>7022</td>\n",
              "      <td>1</td>\n",
              "      <td>6367.354839</td>\n",
              "      <td>1</td>\n",
              "    </tr>\n",
              "    <tr>\n",
              "      <th>26</th>\n",
              "      <td>TR</td>\n",
              "      <td>2006</td>\n",
              "      <td>January</td>\n",
              "      <td>27</td>\n",
              "      <td>100</td>\n",
              "      <td>1</td>\n",
              "      <td>7059</td>\n",
              "      <td>1</td>\n",
              "      <td>6367.354839</td>\n",
              "      <td>1</td>\n",
              "    </tr>\n",
              "    <tr>\n",
              "      <th>27</th>\n",
              "      <td>TR</td>\n",
              "      <td>2006</td>\n",
              "      <td>January</td>\n",
              "      <td>28</td>\n",
              "      <td>100</td>\n",
              "      <td>1</td>\n",
              "      <td>6775</td>\n",
              "      <td>1</td>\n",
              "      <td>6367.354839</td>\n",
              "      <td>1</td>\n",
              "    </tr>\n",
              "    <tr>\n",
              "      <th>28</th>\n",
              "      <td>TR</td>\n",
              "      <td>2006</td>\n",
              "      <td>January</td>\n",
              "      <td>29</td>\n",
              "      <td>100</td>\n",
              "      <td>1</td>\n",
              "      <td>6211</td>\n",
              "      <td>1</td>\n",
              "      <td>6367.354839</td>\n",
              "      <td>1</td>\n",
              "    </tr>\n",
              "    <tr>\n",
              "      <th>29</th>\n",
              "      <td>TR</td>\n",
              "      <td>2006</td>\n",
              "      <td>January</td>\n",
              "      <td>30</td>\n",
              "      <td>100</td>\n",
              "      <td>1</td>\n",
              "      <td>6332</td>\n",
              "      <td>1</td>\n",
              "      <td>6367.354839</td>\n",
              "      <td>1</td>\n",
              "    </tr>\n",
              "    <tr>\n",
              "      <th>30</th>\n",
              "      <td>TR</td>\n",
              "      <td>2006</td>\n",
              "      <td>January</td>\n",
              "      <td>31</td>\n",
              "      <td>100</td>\n",
              "      <td>1</td>\n",
              "      <td>6781</td>\n",
              "      <td>1</td>\n",
              "      <td>6367.354839</td>\n",
              "      <td>1</td>\n",
              "    </tr>\n",
              "  </tbody>\n",
              "</table>\n",
              "</div>"
            ],
            "text/plain": [
              "   Country  Year   Mounth  ...  BelowUnderAvg         mean  under\n",
              "0       TR  2006  January  ...              0  6367.354839      1\n",
              "1       TR  2006  January  ...              0  6367.354839      1\n",
              "2       TR  2006  January  ...              0  6367.354839      0\n",
              "3       TR  2006  January  ...              0  6367.354839      0\n",
              "4       TR  2006  January  ...              0  6367.354839      0\n",
              "5       TR  2006  January  ...              0  6367.354839      0\n",
              "6       TR  2006  January  ...              0  6367.354839      1\n",
              "7       TR  2006  January  ...              0  6367.354839      1\n",
              "8       TR  2006  January  ...              0  6367.354839      1\n",
              "9       TR  2006  January  ...              1  6367.354839      1\n",
              "10      TR  2006  January  ...              1  6367.354839      1\n",
              "11      TR  2006  January  ...              1  6367.354839      1\n",
              "12      TR  2006  January  ...              1  6367.354839      1\n",
              "13      TR  2006  January  ...              1  6367.354839      1\n",
              "14      TR  2006  January  ...              0  6367.354839      0\n",
              "15      TR  2006  January  ...              1  6367.354839      1\n",
              "16      TR  2006  January  ...              1  6367.354839      1\n",
              "17      TR  2006  January  ...              1  6367.354839      1\n",
              "18      TR  2006  January  ...              1  6367.354839      1\n",
              "19      TR  2006  January  ...              1  6367.354839      1\n",
              "20      TR  2006  January  ...              1  6367.354839      1\n",
              "21      TR  2006  January  ...              0  6367.354839      1\n",
              "22      TR  2006  January  ...              1  6367.354839      1\n",
              "23      TR  2006  January  ...              1  6367.354839      1\n",
              "24      TR  2006  January  ...              1  6367.354839      1\n",
              "25      TR  2006  January  ...              1  6367.354839      1\n",
              "26      TR  2006  January  ...              1  6367.354839      1\n",
              "27      TR  2006  January  ...              1  6367.354839      1\n",
              "28      TR  2006  January  ...              1  6367.354839      1\n",
              "29      TR  2006  January  ...              1  6367.354839      1\n",
              "30      TR  2006  January  ...              1  6367.354839      1\n",
              "\n",
              "[31 rows x 10 columns]"
            ]
          },
          "metadata": {
            "tags": []
          },
          "execution_count": 27
        }
      ]
    },
    {
      "cell_type": "code",
      "metadata": {
        "colab": {
          "base_uri": "https://localhost:8080/",
          "height": 497
        },
        "id": "QPL6B2LAgZTV",
        "outputId": "27646b64-26fb-4e4c-89bd-1115f7f17d0d"
      },
      "source": [
        "# import pandas module for data analysis\n",
        "import pandas as pd\n",
        "# import seaborn and matplot library for visualization\n",
        "import seaborn as sns  \n",
        "import matplotlib.pyplot as plt\n",
        "\n",
        "\n",
        "df[\"val\"] = df['under'].apply(lambda x: \"red\" if x==0 else \"blue\")\n",
        "not_red_df = df.loc[df['val'] != 'red']\n",
        "red_df = df.loc[df['val'] == 'red']\n",
        "plt.figure(figsize = (15,8)) \n",
        "sns.lineplot(x = \"Day\", y = \"SolarPV_Consumption\", data = df)\n",
        "sns.lineplot(x = \"Day\", y = \"mean\", data = df )\n",
        "\n",
        "sns.scatterplot(x=not_red_df[\"Day\"], y=not_red_df[\"SolarPV_Consumption\"], c=not_red_df[\"val\"], s=200)\n",
        "sns.scatterplot(x=red_df[\"Day\"], y=red_df[\"SolarPV_Consumption\"], c=red_df[\"val\"], s=200)\n",
        "\n",
        "\n",
        "plt.show()\n",
        "\n"
      ],
      "execution_count": null,
      "outputs": [
        {
          "output_type": "display_data",
          "data": {
            "image/png": "[encoded data removed]",
            "text/plain": [
              "<Figure size 1080x576 with 1 Axes>"
            ]
          },
          "metadata": {
            "tags": [],
            "needs_background": "light"
          }
        }
      ]
    }
  ]
}