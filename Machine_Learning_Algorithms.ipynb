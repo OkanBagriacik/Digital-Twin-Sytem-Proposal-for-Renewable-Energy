{
  "nbformat": 4,
  "nbformat_minor": 0,
  "metadata": {
    "colab": {
      "name": "Machine Learning Algorithms.ipynb",
      "provenance": [],
      "authorship_tag": "ABX9TyPFf8X3qp4zVXBeKosW3b5A",
      "include_colab_link": true
    },
    "kernelspec": {
      "name": "python3",
      "display_name": "Python 3"
    },
    "language_info": {
      "name": "python"
    }
  },
  "cells": [
    {
      "cell_type": "markdown",
      "metadata": {
        "id": "view-in-github",
        "colab_type": "text"
      },
      "source": [
        "<a href=\"https://colab.research.google.com/github/OkanBagriacik/Energy-Project/blob/main/Machine_Learning_Algorithms.ipynb\" target=\"_parent\"><img src=\"https://colab.research.google.com/assets/colab-badge.svg\" alt=\"Open In Colab\"/></a>"
      ]
    },
    {
      "cell_type": "code",
      "metadata": {
        "id": "Ig3Gna7KWPfv"
      },
      "source": [
        "import matplotlib.pyplot as plt\n",
        "from sklearn.metrics import plot_roc_curve, classification_report, roc_auc_score, auc, roc_curve\n",
        "from sklearn.neighbors import KNeighborsClassifier\n",
        "from sklearn.naive_bayes import GaussianNB\n",
        "from sklearn.ensemble import RandomForestClassifier\n",
        "from sklearn.svm import SVC\n",
        "from sklearn.model_selection import GridSearchCV\n",
        "import pandas as pd\n",
        "import seaborn as sns\n",
        "import warnings\n",
        "from google.colab import drive\n",
        "import xgboost as xg\n",
        "import tensorflow as tf\n",
        "from tensorflow.keras.models import Sequential\n",
        "from tensorflow.keras.layers import Dense\n",
        "import joblib"
      ],
      "execution_count": null,
      "outputs": []
    },
    {
      "cell_type": "code",
      "metadata": {
        "colab": {
          "base_uri": "https://localhost:8080/",
          "height": 419
        },
        "id": "68mhAt4NWaqi",
        "outputId": "b1a10d6d-f185-4582-b17c-2d7c693325bb"
      },
      "source": [
        "data =pd.read_csv(\"EnergyData_2.csv\")\n",
        "data = data[[\"SolarPV_Consumption\",\"Panel Count\", \"Weather\", \"BelowUnderAVG\"]]\n",
        "data"
      ],
      "execution_count": null,
      "outputs": [
        {
          "output_type": "execute_result",
          "data": {
            "text/html": [
              "<div>\n",
              "<style scoped>\n",
              "    .dataframe tbody tr th:only-of-type {\n",
              "        vertical-align: middle;\n",
              "    }\n",
              "\n",
              "    .dataframe tbody tr th {\n",
              "        vertical-align: top;\n",
              "    }\n",
              "\n",
              "    .dataframe thead th {\n",
              "        text-align: right;\n",
              "    }\n",
              "</style>\n",
              "<table border=\"1\" class=\"dataframe\">\n",
              "  <thead>\n",
              "    <tr style=\"text-align: right;\">\n",
              "      <th></th>\n",
              "      <th>SolarPV_Consumption</th>\n",
              "      <th>Panel Count</th>\n",
              "      <th>Weather</th>\n",
              "      <th>BelowUnderAVG</th>\n",
              "    </tr>\n",
              "  </thead>\n",
              "  <tbody>\n",
              "    <tr>\n",
              "      <th>0</th>\n",
              "      <td>4657</td>\n",
              "      <td>50</td>\n",
              "      <td>0</td>\n",
              "      <td>0</td>\n",
              "    </tr>\n",
              "    <tr>\n",
              "      <th>1</th>\n",
              "      <td>6682</td>\n",
              "      <td>100</td>\n",
              "      <td>1</td>\n",
              "      <td>1</td>\n",
              "    </tr>\n",
              "    <tr>\n",
              "      <th>2</th>\n",
              "      <td>7126</td>\n",
              "      <td>100</td>\n",
              "      <td>1</td>\n",
              "      <td>1</td>\n",
              "    </tr>\n",
              "    <tr>\n",
              "      <th>3</th>\n",
              "      <td>7097</td>\n",
              "      <td>100</td>\n",
              "      <td>1</td>\n",
              "      <td>1</td>\n",
              "    </tr>\n",
              "    <tr>\n",
              "      <th>4</th>\n",
              "      <td>7119</td>\n",
              "      <td>100</td>\n",
              "      <td>1</td>\n",
              "      <td>1</td>\n",
              "    </tr>\n",
              "    <tr>\n",
              "      <th>...</th>\n",
              "      <td>...</td>\n",
              "      <td>...</td>\n",
              "      <td>...</td>\n",
              "      <td>...</td>\n",
              "    </tr>\n",
              "    <tr>\n",
              "      <th>364</th>\n",
              "      <td>6704</td>\n",
              "      <td>100</td>\n",
              "      <td>1</td>\n",
              "      <td>1</td>\n",
              "    </tr>\n",
              "    <tr>\n",
              "      <th>365</th>\n",
              "      <td>4276</td>\n",
              "      <td>100</td>\n",
              "      <td>0</td>\n",
              "      <td>0</td>\n",
              "    </tr>\n",
              "    <tr>\n",
              "      <th>366</th>\n",
              "      <td>4678</td>\n",
              "      <td>100</td>\n",
              "      <td>1</td>\n",
              "      <td>1</td>\n",
              "    </tr>\n",
              "    <tr>\n",
              "      <th>367</th>\n",
              "      <td>3330</td>\n",
              "      <td>50</td>\n",
              "      <td>0</td>\n",
              "      <td>0</td>\n",
              "    </tr>\n",
              "    <tr>\n",
              "      <th>368</th>\n",
              "      <td>6247</td>\n",
              "      <td>100</td>\n",
              "      <td>1</td>\n",
              "      <td>1</td>\n",
              "    </tr>\n",
              "  </tbody>\n",
              "</table>\n",
              "<p>369 rows × 4 columns</p>\n",
              "</div>"
            ],
            "text/plain": [
              "     SolarPV_Consumption  Panel Count  Weather  BelowUnderAVG\n",
              "0                   4657           50        0              0\n",
              "1                   6682          100        1              1\n",
              "2                   7126          100        1              1\n",
              "3                   7097          100        1              1\n",
              "4                   7119          100        1              1\n",
              "..                   ...          ...      ...            ...\n",
              "364                 6704          100        1              1\n",
              "365                 4276          100        0              0\n",
              "366                 4678          100        1              1\n",
              "367                 3330           50        0              0\n",
              "368                 6247          100        1              1\n",
              "\n",
              "[369 rows x 4 columns]"
            ]
          },
          "metadata": {
            "tags": []
          },
          "execution_count": 38
        }
      ]
    },
    {
      "cell_type": "code",
      "metadata": {
        "colab": {
          "base_uri": "https://localhost:8080/",
          "height": 282
        },
        "id": "f6QVjhQmW2Q2",
        "outputId": "cb95c6b9-b34f-4ade-aaf7-c8f3cb6f9cd9"
      },
      "source": [
        "target = data[\"BelowUnderAVG\"].value_counts()\n",
        "sns.barplot(x = target.keys(),\n",
        "            y = target.values)"
      ],
      "execution_count": null,
      "outputs": [
        {
          "output_type": "execute_result",
          "data": {
            "text/plain": [
              "<matplotlib.axes._subplots.AxesSubplot at 0x7fc1c472cc50>"
            ]
          },
          "metadata": {
            "tags": []
          },
          "execution_count": 48
        },
        {
          "output_type": "display_data",
          "data": {
            "image/png": "[encoded data removed]",
            "text/plain": [
              "<Figure size 432x288 with 1 Axes>"
            ]
          },
          "metadata": {
            "tags": [],
            "needs_background": "light"
          }
        }
      ]
    },
    {
      "cell_type": "code",
      "metadata": {
        "id": "msQ_auR7W7vE"
      },
      "source": [
        "def trainTestSplitData(data, trainLen):\n",
        "##\n",
        "## Splits data for train (Model Training) and test (Model Evaluating)\n",
        "## @params = {data: data for split, testLen: train data ratio}\n",
        "## @returns = {x_train, x_test, y_train, y_test, x_val, y_val : base and target data for model}\n",
        "##\n",
        "  X = data.drop([\"BelowUnderAVG\"], axis = 1)\n",
        "  y = data[\"BelowUnderAVG\"]\n",
        "  trainLen = int(data.shape[0] * trainLen)\n",
        "  \n",
        "  x_train, x_test, y_train, y_test = X[:trainLen], X[trainLen:], y[:trainLen], y[trainLen:]\n",
        "  \n",
        "  del X\n",
        "  del y\n",
        "  return x_train, x_test, y_train, y_test"
      ],
      "execution_count": null,
      "outputs": []
    },
    {
      "cell_type": "code",
      "metadata": {
        "id": "zN_5AgCTXEYT"
      },
      "source": [
        "x_train, x_test, y_train, y_test = trainTestSplitData(data, 0.5)"
      ],
      "execution_count": null,
      "outputs": []
    },
    {
      "cell_type": "code",
      "metadata": {
        "colab": {
          "base_uri": "https://localhost:8080/"
        },
        "id": "Jp9nkOCHXGX8",
        "outputId": "f5087237-1977-4699-bb40-f0253d9eb6b3"
      },
      "source": [
        "print(f\"Train Data Shape: {x_train.shape} Train Target Shape: {y_train.shape}\")\n",
        "\n",
        "print(f\"Test Data Shape: {x_test.shape} Test Target Shape: {y_test.shape}\")"
      ],
      "execution_count": null,
      "outputs": [
        {
          "output_type": "stream",
          "text": [
            "Train Data Shape: (184, 3) Train Target Shape: (184,)\n",
            "Test Data Shape: (185, 3) Test Target Shape: (185,)\n"
          ],
          "name": "stdout"
        }
      ]
    },
    {
      "cell_type": "code",
      "metadata": {
        "id": "W7CUWfjBXJfU"
      },
      "source": [
        "def gridSearchCrossValidation(tunedParams,\n",
        "                              scores,\n",
        "                              x_train,\n",
        "                              x_test,\n",
        "                              y_train,\n",
        "                              y_test,\n",
        "                              modelType = \"KNN\"\n",
        "                              ):\n",
        "  ###\n",
        "  ### Cross Validation for test model metric and hyper-parameter tuning\n",
        "  ### @params = {tunedParams: hyper-parameters for dataset, scores: accuracy metrics, x_train/y_train/x_val/y_val: datasets, modelType: algorithm type (KNN, RF, XGB)}\n",
        "  ###\n",
        "  for score in scores:\n",
        "    print(f\"Hyper-Parameter Tuning for {score}\")\n",
        "    if modelType == \"KNN\":\n",
        "      model = GridSearchCV(KNeighborsClassifier(),\n",
        "                           tunedParams,\n",
        "                           scoring = f\"{score}_macro\")\n",
        "    elif modelType == \"RF\":\n",
        "      model = GridSearchCV((RandomForestClassifier()),\n",
        "                           tunedParams,\n",
        "                           scoring = f\"{score}_macro\")\n",
        "    elif modelType == \"XGB\":\n",
        "      model = GridSearchCV(xg.XGBClassifier(),\n",
        "                           tunedParams,\n",
        "                           scoring = f\"{score}_macro\")\n",
        "    \n",
        "    model.fit(x_train, y_train)\n",
        "    print(\"Best parameters set found on development set:\")\n",
        "    print(model.best_params_)\n",
        "    print(\"Grid scores on development set:\")\n",
        "    means = model.cv_results_['mean_test_score']\n",
        "    stds = model.cv_results_['std_test_score']\n",
        "    for mean, std, params in zip(means, stds, model.cv_results_['params']):\n",
        "        print(\"%0.3f (+/-%0.03f) for %r\"\n",
        "              % (mean, std * 2, params))\n",
        "    print(\"Detailed classification report:\")\n",
        "    y_true, y_pred = y_test, model.predict(x_test)\n",
        "    print(classification_report(y_true, y_pred))"
      ],
      "execution_count": null,
      "outputs": []
    },
    {
      "cell_type": "code",
      "metadata": {
        "colab": {
          "base_uri": "https://localhost:8080/"
        },
        "id": "DCc4PQsqXOeV",
        "outputId": "8bdb2386-daea-4a77-bac4-2b2b51866a47"
      },
      "source": [
        "tunedParams = [{\"n_neighbors\": [3,5,7],\n",
        "                \"weights\": [\"uniform\", \"distance\"],\n",
        "                \"p\": [1,2]}]\n",
        "scores = [\"precision\", \"recall\"]\n",
        "gridSearchCrossValidation(tunedParams,\n",
        "                          scores,\n",
        "                          x_train,\n",
        "                          x_test,\n",
        "                          y_train,\n",
        "                          y_test,\n",
        "                          modelType = \"KNN\")"
      ],
      "execution_count": null,
      "outputs": [
        {
          "output_type": "stream",
          "text": [
            "Hyper-Parameter Tuning for precision\n",
            "Best parameters set found on development set:\n",
            "{'n_neighbors': 7, 'p': 1, 'weights': 'distance'}\n",
            "Grid scores on development set:\n",
            "0.860 (+/-0.095) for {'n_neighbors': 3, 'p': 1, 'weights': 'uniform'}\n",
            "0.867 (+/-0.138) for {'n_neighbors': 3, 'p': 1, 'weights': 'distance'}\n",
            "0.857 (+/-0.094) for {'n_neighbors': 3, 'p': 2, 'weights': 'uniform'}\n",
            "0.862 (+/-0.132) for {'n_neighbors': 3, 'p': 2, 'weights': 'distance'}\n",
            "0.866 (+/-0.121) for {'n_neighbors': 5, 'p': 1, 'weights': 'uniform'}\n",
            "0.864 (+/-0.155) for {'n_neighbors': 5, 'p': 1, 'weights': 'distance'}\n",
            "0.864 (+/-0.125) for {'n_neighbors': 5, 'p': 2, 'weights': 'uniform'}\n",
            "0.861 (+/-0.157) for {'n_neighbors': 5, 'p': 2, 'weights': 'distance'}\n",
            "0.859 (+/-0.121) for {'n_neighbors': 7, 'p': 1, 'weights': 'uniform'}\n",
            "0.875 (+/-0.150) for {'n_neighbors': 7, 'p': 1, 'weights': 'distance'}\n",
            "0.855 (+/-0.128) for {'n_neighbors': 7, 'p': 2, 'weights': 'uniform'}\n",
            "0.875 (+/-0.150) for {'n_neighbors': 7, 'p': 2, 'weights': 'distance'}\n",
            "Detailed classification report:\n",
            "              precision    recall  f1-score   support\n",
            "\n",
            "           0       0.67      0.76      0.71        95\n",
            "           1       0.70      0.60      0.65        90\n",
            "\n",
            "    accuracy                           0.68       185\n",
            "   macro avg       0.68      0.68      0.68       185\n",
            "weighted avg       0.68      0.68      0.68       185\n",
            "\n",
            "Hyper-Parameter Tuning for recall\n",
            "Best parameters set found on development set:\n",
            "{'n_neighbors': 7, 'p': 1, 'weights': 'distance'}\n",
            "Grid scores on development set:\n",
            "0.806 (+/-0.208) for {'n_neighbors': 3, 'p': 1, 'weights': 'uniform'}\n",
            "0.817 (+/-0.238) for {'n_neighbors': 3, 'p': 1, 'weights': 'distance'}\n",
            "0.800 (+/-0.205) for {'n_neighbors': 3, 'p': 2, 'weights': 'uniform'}\n",
            "0.811 (+/-0.229) for {'n_neighbors': 3, 'p': 2, 'weights': 'distance'}\n",
            "0.806 (+/-0.228) for {'n_neighbors': 5, 'p': 1, 'weights': 'uniform'}\n",
            "0.811 (+/-0.248) for {'n_neighbors': 5, 'p': 1, 'weights': 'distance'}\n",
            "0.801 (+/-0.235) for {'n_neighbors': 5, 'p': 2, 'weights': 'uniform'}\n",
            "0.806 (+/-0.253) for {'n_neighbors': 5, 'p': 2, 'weights': 'distance'}\n",
            "0.789 (+/-0.226) for {'n_neighbors': 7, 'p': 1, 'weights': 'uniform'}\n",
            "0.817 (+/-0.255) for {'n_neighbors': 7, 'p': 1, 'weights': 'distance'}\n",
            "0.779 (+/-0.244) for {'n_neighbors': 7, 'p': 2, 'weights': 'uniform'}\n",
            "0.817 (+/-0.255) for {'n_neighbors': 7, 'p': 2, 'weights': 'distance'}\n",
            "Detailed classification report:\n",
            "              precision    recall  f1-score   support\n",
            "\n",
            "           0       0.67      0.76      0.71        95\n",
            "           1       0.70      0.60      0.65        90\n",
            "\n",
            "    accuracy                           0.68       185\n",
            "   macro avg       0.68      0.68      0.68       185\n",
            "weighted avg       0.68      0.68      0.68       185\n",
            "\n"
          ],
          "name": "stdout"
        }
      ]
    },
    {
      "cell_type": "code",
      "metadata": {
        "colab": {
          "base_uri": "https://localhost:8080/"
        },
        "id": "AqoiznwFXS9i",
        "outputId": "8bc516ec-8453-47ff-fa12-01697249bfa5"
      },
      "source": [
        "tunedParams = [{\"n_estimators\": [10, 50, 100],\n",
        "                \"criterion\": [\"gini\", \"entropy\"],\n",
        "                \"max_features\": [\"auto\", \"sqrt\", \"log2\"]}]\n",
        "scores = [\"precision\", \"recall\"]\n",
        "gridSearchCrossValidation(tunedParams,\n",
        "                          scores,\n",
        "                          x_train,\n",
        "                          x_test,\n",
        "                          y_train,\n",
        "                          y_test,\n",
        "                          modelType = \"RF\")"
      ],
      "execution_count": null,
      "outputs": [
        {
          "output_type": "stream",
          "text": [
            "Hyper-Parameter Tuning for precision\n",
            "Best parameters set found on development set:\n",
            "{'criterion': 'gini', 'max_features': 'auto', 'n_estimators': 50}\n",
            "Grid scores on development set:\n",
            "0.902 (+/-0.146) for {'criterion': 'gini', 'max_features': 'auto', 'n_estimators': 10}\n",
            "0.976 (+/-0.052) for {'criterion': 'gini', 'max_features': 'auto', 'n_estimators': 50}\n",
            "0.936 (+/-0.143) for {'criterion': 'gini', 'max_features': 'auto', 'n_estimators': 100}\n",
            "0.976 (+/-0.052) for {'criterion': 'gini', 'max_features': 'sqrt', 'n_estimators': 10}\n",
            "0.976 (+/-0.052) for {'criterion': 'gini', 'max_features': 'sqrt', 'n_estimators': 50}\n",
            "0.976 (+/-0.052) for {'criterion': 'gini', 'max_features': 'sqrt', 'n_estimators': 100}\n",
            "0.976 (+/-0.052) for {'criterion': 'gini', 'max_features': 'log2', 'n_estimators': 10}\n",
            "0.904 (+/-0.140) for {'criterion': 'gini', 'max_features': 'log2', 'n_estimators': 50}\n",
            "0.942 (+/-0.118) for {'criterion': 'gini', 'max_features': 'log2', 'n_estimators': 100}\n",
            "0.976 (+/-0.052) for {'criterion': 'entropy', 'max_features': 'auto', 'n_estimators': 10}\n",
            "0.976 (+/-0.052) for {'criterion': 'entropy', 'max_features': 'auto', 'n_estimators': 50}\n",
            "0.942 (+/-0.118) for {'criterion': 'entropy', 'max_features': 'auto', 'n_estimators': 100}\n",
            "0.934 (+/-0.140) for {'criterion': 'entropy', 'max_features': 'sqrt', 'n_estimators': 10}\n",
            "0.976 (+/-0.052) for {'criterion': 'entropy', 'max_features': 'sqrt', 'n_estimators': 50}\n",
            "0.942 (+/-0.118) for {'criterion': 'entropy', 'max_features': 'sqrt', 'n_estimators': 100}\n",
            "0.976 (+/-0.052) for {'criterion': 'entropy', 'max_features': 'log2', 'n_estimators': 10}\n",
            "0.976 (+/-0.052) for {'criterion': 'entropy', 'max_features': 'log2', 'n_estimators': 50}\n",
            "0.942 (+/-0.118) for {'criterion': 'entropy', 'max_features': 'log2', 'n_estimators': 100}\n",
            "Detailed classification report:\n",
            "              precision    recall  f1-score   support\n",
            "\n",
            "           0       1.00      1.00      1.00        95\n",
            "           1       1.00      1.00      1.00        90\n",
            "\n",
            "    accuracy                           1.00       185\n",
            "   macro avg       1.00      1.00      1.00       185\n",
            "weighted avg       1.00      1.00      1.00       185\n",
            "\n",
            "Hyper-Parameter Tuning for recall\n",
            "Best parameters set found on development set:\n",
            "{'criterion': 'gini', 'max_features': 'auto', 'n_estimators': 10}\n",
            "Grid scores on development set:\n",
            "0.973 (+/-0.058) for {'criterion': 'gini', 'max_features': 'auto', 'n_estimators': 10}\n",
            "0.973 (+/-0.058) for {'criterion': 'gini', 'max_features': 'auto', 'n_estimators': 50}\n",
            "0.973 (+/-0.058) for {'criterion': 'gini', 'max_features': 'auto', 'n_estimators': 100}\n",
            "0.907 (+/-0.224) for {'criterion': 'gini', 'max_features': 'sqrt', 'n_estimators': 10}\n",
            "0.973 (+/-0.058) for {'criterion': 'gini', 'max_features': 'sqrt', 'n_estimators': 50}\n",
            "0.973 (+/-0.058) for {'criterion': 'gini', 'max_features': 'sqrt', 'n_estimators': 100}\n",
            "0.906 (+/-0.245) for {'criterion': 'gini', 'max_features': 'log2', 'n_estimators': 10}\n",
            "0.865 (+/-0.229) for {'criterion': 'gini', 'max_features': 'log2', 'n_estimators': 50}\n",
            "0.973 (+/-0.058) for {'criterion': 'gini', 'max_features': 'log2', 'n_estimators': 100}\n",
            "0.926 (+/-0.170) for {'criterion': 'entropy', 'max_features': 'auto', 'n_estimators': 10}\n",
            "0.926 (+/-0.170) for {'criterion': 'entropy', 'max_features': 'auto', 'n_estimators': 50}\n",
            "0.859 (+/-0.246) for {'criterion': 'entropy', 'max_features': 'auto', 'n_estimators': 100}\n",
            "0.865 (+/-0.229) for {'criterion': 'entropy', 'max_features': 'sqrt', 'n_estimators': 10}\n",
            "0.926 (+/-0.170) for {'criterion': 'entropy', 'max_features': 'sqrt', 'n_estimators': 50}\n",
            "0.912 (+/-0.223) for {'criterion': 'entropy', 'max_features': 'sqrt', 'n_estimators': 100}\n",
            "0.906 (+/-0.245) for {'criterion': 'entropy', 'max_features': 'log2', 'n_estimators': 10}\n",
            "0.906 (+/-0.245) for {'criterion': 'entropy', 'max_features': 'log2', 'n_estimators': 50}\n",
            "0.973 (+/-0.058) for {'criterion': 'entropy', 'max_features': 'log2', 'n_estimators': 100}\n",
            "Detailed classification report:\n",
            "              precision    recall  f1-score   support\n",
            "\n",
            "           0       1.00      1.00      1.00        95\n",
            "           1       1.00      1.00      1.00        90\n",
            "\n",
            "    accuracy                           1.00       185\n",
            "   macro avg       1.00      1.00      1.00       185\n",
            "weighted avg       1.00      1.00      1.00       185\n",
            "\n"
          ],
          "name": "stdout"
        }
      ]
    },
    {
      "cell_type": "code",
      "metadata": {
        "colab": {
          "base_uri": "https://localhost:8080/"
        },
        "id": "UmtcnPfMXjQz",
        "outputId": "1fd076ff-d3b1-4a0d-9043-6490708b231b"
      },
      "source": [
        "tunedParams = [{\"min_child_weight\": [5, 10],\n",
        "                \"colsample_bytree\": [0.6, 0.8]}]\n",
        "scores = [\"precision\", \"recall\"]\n",
        "gridSearchCrossValidation(tunedParams,\n",
        "                          scores,\n",
        "                          x_train,\n",
        "                          x_test,\n",
        "                          y_train,\n",
        "                          y_test,\n",
        "                          modelType = \"XGB\")"
      ],
      "execution_count": null,
      "outputs": [
        {
          "output_type": "stream",
          "text": [
            "Hyper-Parameter Tuning for precision\n",
            "Best parameters set found on development set:\n",
            "{'colsample_bytree': 0.8, 'min_child_weight': 10}\n",
            "Grid scores on development set:\n",
            "0.917 (+/-0.166) for {'colsample_bytree': 0.6, 'min_child_weight': 5}\n",
            "0.917 (+/-0.166) for {'colsample_bytree': 0.6, 'min_child_weight': 10}\n",
            "0.950 (+/-0.152) for {'colsample_bytree': 0.8, 'min_child_weight': 5}\n",
            "0.990 (+/-0.024) for {'colsample_bytree': 0.8, 'min_child_weight': 10}\n",
            "Detailed classification report:\n",
            "              precision    recall  f1-score   support\n",
            "\n",
            "           0       1.00      1.00      1.00        95\n",
            "           1       1.00      1.00      1.00        90\n",
            "\n",
            "    accuracy                           1.00       185\n",
            "   macro avg       1.00      1.00      1.00       185\n",
            "weighted avg       1.00      1.00      1.00       185\n",
            "\n",
            "Hyper-Parameter Tuning for recall\n",
            "Best parameters set found on development set:\n",
            "{'colsample_bytree': 0.8, 'min_child_weight': 10}\n",
            "Grid scores on development set:\n",
            "0.875 (+/-0.269) for {'colsample_bytree': 0.6, 'min_child_weight': 5}\n",
            "0.875 (+/-0.269) for {'colsample_bytree': 0.6, 'min_child_weight': 10}\n",
            "0.922 (+/-0.257) for {'colsample_bytree': 0.8, 'min_child_weight': 5}\n",
            "0.989 (+/-0.027) for {'colsample_bytree': 0.8, 'min_child_weight': 10}\n",
            "Detailed classification report:\n",
            "              precision    recall  f1-score   support\n",
            "\n",
            "           0       1.00      1.00      1.00        95\n",
            "           1       1.00      1.00      1.00        90\n",
            "\n",
            "    accuracy                           1.00       185\n",
            "   macro avg       1.00      1.00      1.00       185\n",
            "weighted avg       1.00      1.00      1.00       185\n",
            "\n"
          ],
          "name": "stdout"
        }
      ]
    },
    {
      "cell_type": "code",
      "metadata": {
        "id": "LwzqoI9Nazzs"
      },
      "source": [
        "model = RandomForestClassifier(criterion = 'entropy', \n",
        "                               max_features = 'sqrt', \n",
        "                               n_estimators = 100)"
      ],
      "execution_count": null,
      "outputs": []
    },
    {
      "cell_type": "code",
      "metadata": {
        "colab": {
          "base_uri": "https://localhost:8080/"
        },
        "id": "RNgQjh2Ua0WM",
        "outputId": "91e572d0-6a19-41de-efa8-58f8cfb1379a"
      },
      "source": [
        "model.fit(x_train, y_train)"
      ],
      "execution_count": null,
      "outputs": [
        {
          "output_type": "execute_result",
          "data": {
            "text/plain": [
              "RandomForestClassifier(bootstrap=True, ccp_alpha=0.0, class_weight=None,\n",
              "                       criterion='entropy', max_depth=None, max_features='sqrt',\n",
              "                       max_leaf_nodes=None, max_samples=None,\n",
              "                       min_impurity_decrease=0.0, min_impurity_split=None,\n",
              "                       min_samples_leaf=1, min_samples_split=2,\n",
              "                       min_weight_fraction_leaf=0.0, n_estimators=100,\n",
              "                       n_jobs=None, oob_score=False, random_state=None,\n",
              "                       verbose=0, warm_start=False)"
            ]
          },
          "metadata": {
            "tags": []
          },
          "execution_count": 57
        }
      ]
    },
    {
      "cell_type": "code",
      "metadata": {
        "colab": {
          "base_uri": "https://localhost:8080/",
          "height": 312
        },
        "id": "16V7dhi4a0di",
        "outputId": "c3df9e02-5039-45d2-880c-2606992f9d6d"
      },
      "source": [
        "plt.figure(figsize= (20,20))\n",
        "plot_roc_curve(model, x_test, y_test)\n",
        "plt.title(\"Roc Curve\")\n",
        "plt.show()"
      ],
      "execution_count": null,
      "outputs": [
        {
          "output_type": "display_data",
          "data": {
            "text/plain": [
              "<Figure size 1440x1440 with 0 Axes>"
            ]
          },
          "metadata": {
            "tags": []
          }
        },
        {
          "output_type": "display_data",
          "data": {
            "image/png": "[encoded data removed]",
            "text/plain": [
              "<Figure size 432x288 with 1 Axes>"
            ]
          },
          "metadata": {
            "tags": [],
            "needs_background": "light"
          }
        }
      ]
    },
    {
      "cell_type": "code",
      "metadata": {
        "id": "mNmX_kP6a8Cq",
        "colab": {
          "base_uri": "https://localhost:8080/",
          "height": 419
        },
        "outputId": "241dbe0e-1c93-4cd0-f30c-2a771319ee95"
      },
      "source": [
        "predicts = model.predict(x_test)\n",
        "predictionData = {\"Index\": range(x_test.shape[0]),\n",
        "                      \"Actual\": y_test,\n",
        "                      \"Prediction\": predicts}\n",
        "predictionData = pd.DataFrame(predictionData)\n",
        "predictionData"
      ],
      "execution_count": null,
      "outputs": [
        {
          "output_type": "execute_result",
          "data": {
            "text/html": [
              "<div>\n",
              "<style scoped>\n",
              "    .dataframe tbody tr th:only-of-type {\n",
              "        vertical-align: middle;\n",
              "    }\n",
              "\n",
              "    .dataframe tbody tr th {\n",
              "        vertical-align: top;\n",
              "    }\n",
              "\n",
              "    .dataframe thead th {\n",
              "        text-align: right;\n",
              "    }\n",
              "</style>\n",
              "<table border=\"1\" class=\"dataframe\">\n",
              "  <thead>\n",
              "    <tr style=\"text-align: right;\">\n",
              "      <th></th>\n",
              "      <th>Index</th>\n",
              "      <th>Actual</th>\n",
              "      <th>Prediction</th>\n",
              "    </tr>\n",
              "  </thead>\n",
              "  <tbody>\n",
              "    <tr>\n",
              "      <th>184</th>\n",
              "      <td>0</td>\n",
              "      <td>1</td>\n",
              "      <td>1</td>\n",
              "    </tr>\n",
              "    <tr>\n",
              "      <th>185</th>\n",
              "      <td>1</td>\n",
              "      <td>0</td>\n",
              "      <td>0</td>\n",
              "    </tr>\n",
              "    <tr>\n",
              "      <th>186</th>\n",
              "      <td>2</td>\n",
              "      <td>0</td>\n",
              "      <td>0</td>\n",
              "    </tr>\n",
              "    <tr>\n",
              "      <th>187</th>\n",
              "      <td>3</td>\n",
              "      <td>0</td>\n",
              "      <td>0</td>\n",
              "    </tr>\n",
              "    <tr>\n",
              "      <th>188</th>\n",
              "      <td>4</td>\n",
              "      <td>0</td>\n",
              "      <td>0</td>\n",
              "    </tr>\n",
              "    <tr>\n",
              "      <th>...</th>\n",
              "      <td>...</td>\n",
              "      <td>...</td>\n",
              "      <td>...</td>\n",
              "    </tr>\n",
              "    <tr>\n",
              "      <th>364</th>\n",
              "      <td>180</td>\n",
              "      <td>1</td>\n",
              "      <td>1</td>\n",
              "    </tr>\n",
              "    <tr>\n",
              "      <th>365</th>\n",
              "      <td>181</td>\n",
              "      <td>0</td>\n",
              "      <td>0</td>\n",
              "    </tr>\n",
              "    <tr>\n",
              "      <th>366</th>\n",
              "      <td>182</td>\n",
              "      <td>1</td>\n",
              "      <td>1</td>\n",
              "    </tr>\n",
              "    <tr>\n",
              "      <th>367</th>\n",
              "      <td>183</td>\n",
              "      <td>0</td>\n",
              "      <td>0</td>\n",
              "    </tr>\n",
              "    <tr>\n",
              "      <th>368</th>\n",
              "      <td>184</td>\n",
              "      <td>1</td>\n",
              "      <td>1</td>\n",
              "    </tr>\n",
              "  </tbody>\n",
              "</table>\n",
              "<p>185 rows × 3 columns</p>\n",
              "</div>"
            ],
            "text/plain": [
              "     Index  Actual  Prediction\n",
              "184      0       1           1\n",
              "185      1       0           0\n",
              "186      2       0           0\n",
              "187      3       0           0\n",
              "188      4       0           0\n",
              "..     ...     ...         ...\n",
              "364    180       1           1\n",
              "365    181       0           0\n",
              "366    182       1           1\n",
              "367    183       0           0\n",
              "368    184       1           1\n",
              "\n",
              "[185 rows x 3 columns]"
            ]
          },
          "metadata": {
            "tags": []
          },
          "execution_count": 59
        }
      ]
    }
  ]
}